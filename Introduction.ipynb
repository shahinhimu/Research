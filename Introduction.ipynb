{
  "nbformat": 4,
  "nbformat_minor": 0,
  "metadata": {
    "colab": {
      "provenance": [],
      "toc_visible": true,
      "authorship_tag": "ABX9TyPN+9V7vwk7pFGYKSk6AguO",
      "include_colab_link": true
    },
    "kernelspec": {
      "name": "python3",
      "display_name": "Python 3"
    },
    "language_info": {
      "name": "python"
    }
  },
  "cells": [
    {
      "cell_type": "markdown",
      "metadata": {
        "id": "view-in-github",
        "colab_type": "text"
      },
      "source": [
        "<a href=\"https://colab.research.google.com/github/shahinhimu/Research/blob/main/Introduction.ipynb\" target=\"_parent\"><img src=\"https://colab.research.google.com/assets/colab-badge.svg\" alt=\"Open In Colab\"/></a>"
      ]
    },
    {
      "cell_type": "code",
      "execution_count": null,
      "metadata": {
        "id": "OQcKyTHbQu9C",
        "colab": {
          "base_uri": "https://localhost:8080/"
        },
        "outputId": "3e557681-a07d-48b9-db14-1481b47dacb5"
      },
      "outputs": [
        {
          "output_type": "stream",
          "name": "stdout",
          "text": [
            "Allah Huakbar\n"
          ]
        }
      ],
      "source": [
        "print(\"Allah Huakbar\")"
      ]
    },
    {
      "cell_type": "code",
      "source": [
        "20+10\n"
      ],
      "metadata": {
        "colab": {
          "base_uri": "https://localhost:8080/"
        },
        "id": "P_LGaXbFSIKB",
        "outputId": "a1288a73-ec30-4f79-d391-c988341809e0"
      },
      "execution_count": null,
      "outputs": [
        {
          "output_type": "execute_result",
          "data": {
            "text/plain": [
              "30"
            ]
          },
          "metadata": {},
          "execution_count": 2
        }
      ]
    },
    {
      "cell_type": "code",
      "source": [],
      "metadata": {
        "id": "kaqoQz9qSKX5"
      },
      "execution_count": null,
      "outputs": []
    },
    {
      "cell_type": "markdown",
      "source": [
        "# **Chapter**"
      ],
      "metadata": {
        "id": "l9zL9KS_SjJI"
      }
    },
    {
      "cell_type": "code",
      "source": [],
      "metadata": {
        "id": "TP9hw_jRSva3"
      },
      "execution_count": null,
      "outputs": []
    },
    {
      "cell_type": "markdown",
      "source": [
        "## **sub chapter**"
      ],
      "metadata": {
        "id": "_S5phQuQS93-"
      }
    },
    {
      "cell_type": "code",
      "source": [],
      "metadata": {
        "id": "NepScpRLTDE-"
      },
      "execution_count": null,
      "outputs": []
    }
  ]
}