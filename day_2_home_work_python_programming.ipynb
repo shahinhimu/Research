{
  "nbformat": 4,
  "nbformat_minor": 0,
  "metadata": {
    "colab": {
      "provenance": [],
      "toc_visible": true,
      "collapsed_sections": [
        "o2_ZrPJtMtUt"
      ],
      "authorship_tag": "ABX9TyN1RusGted4qN5GKd/nWfhd",
      "include_colab_link": true
    },
    "kernelspec": {
      "name": "python3",
      "display_name": "Python 3"
    },
    "language_info": {
      "name": "python"
    }
  },
  "cells": [
    {
      "cell_type": "markdown",
      "metadata": {
        "id": "view-in-github",
        "colab_type": "text"
      },
      "source": [
        "<a href=\"https://colab.research.google.com/github/shahinhimu/Research/blob/main/day_2_home_work_python_programming.ipynb\" target=\"_parent\"><img src=\"https://colab.research.google.com/assets/colab-badge.svg\" alt=\"Open In Colab\"/></a>"
      ]
    },
    {
      "cell_type": "markdown",
      "source": [
        "# **Day-02 Home Work Python Introduction**"
      ],
      "metadata": {
        "id": "p6lMw-0XMndS"
      }
    },
    {
      "cell_type": "markdown",
      "source": [
        "## **Variable Home Work**"
      ],
      "metadata": {
        "id": "o2_ZrPJtMtUt"
      }
    },
    {
      "cell_type": "code",
      "source": [
        "#2.1. Try it yourself: Create variables for your name, age, and favorite color, then print them with descriptive labels.\n"
      ],
      "metadata": {
        "id": "mwHjngabMqsj"
      },
      "execution_count": null,
      "outputs": []
    },
    {
      "cell_type": "code",
      "source": [
        "name = \"Md Shahin Bhuyan\"\n",
        "age = 27\n",
        "favorite_color = 'Blue'\n",
        "\n",
        "print(f' I am {name} \\n My age {age} \\n My Favorite Color is {favorite_color}')"
      ],
      "metadata": {
        "colab": {
          "base_uri": "https://localhost:8080/"
        },
        "id": "aHMvEKxWNQL3",
        "outputId": "d7efe8d2-9464-4440-b214-44820f4e1494"
      },
      "execution_count": null,
      "outputs": [
        {
          "output_type": "stream",
          "name": "stdout",
          "text": [
            " I am Md Shahin Bhuyan \n",
            " My age 27 \n",
            " My Favorite Color is Blue\n"
          ]
        }
      ]
    },
    {
      "cell_type": "code",
      "source": [
        "# 2.2. Try it yourself: Create one variable of each type and use the type() function to verify its type.\n",
        "\n",
        "Student = \"Skill Morph\"\n",
        "print(type(Student))"
      ],
      "metadata": {
        "colab": {
          "base_uri": "https://localhost:8080/"
        },
        "id": "SmsVUwrWObY5",
        "outputId": "60f7e619-230c-43da-e44b-5f2bb2e91edd"
      },
      "execution_count": null,
      "outputs": [
        {
          "output_type": "stream",
          "name": "stdout",
          "text": [
            "<class 'str'>\n"
          ]
        }
      ]
    },
    {
      "cell_type": "code",
      "source": [
        "# 2.3. Try it yourself: Calculate the area and perimeter of a rectangle with length 7 and width 5.\n",
        "\n",
        "lenght = 7\n",
        "width = 5\n",
        "\n",
        "area = lenght * width\n",
        "perimeter = 2* (lenght + width)\n",
        "\n",
        "print(f' Area of the rectangle: {area}\\n Perimeter of the rectangle: {perimeter}')"
      ],
      "metadata": {
        "colab": {
          "base_uri": "https://localhost:8080/"
        },
        "id": "H_XLEEPCRZeB",
        "outputId": "046daceb-e555-4690-e694-95eedfca8976"
      },
      "execution_count": null,
      "outputs": [
        {
          "output_type": "stream",
          "name": "stdout",
          "text": [
            " Area of the rectangle: 35\n",
            " Perimeter of the rectangle: 24\n"
          ]
        }
      ]
    },
    {
      "cell_type": "code",
      "source": [],
      "metadata": {
        "id": "bS-zxZ1ITK_3"
      },
      "execution_count": null,
      "outputs": []
    },
    {
      "cell_type": "markdown",
      "source": [
        "## **Data Collection Home Work**"
      ],
      "metadata": {
        "id": "82NEVzCvUn8m"
      }
    },
    {
      "cell_type": "code",
      "source": [
        "# 2.4. Try it yourself: Create a list of 5 Bangladeshi foods, then access the first and last elements.\n",
        "\n",
        "food =['Biryani','Hilsa fish curry','Chingri Malai Curry','Fuchka','Panta Bhat']\n",
        "print(f' The First Element: {food[0]}\\n Last Elements: {food[4]}')\n"
      ],
      "metadata": {
        "colab": {
          "base_uri": "https://localhost:8080/"
        },
        "id": "BgH4F25XVYFK",
        "outputId": "d81a4525-636c-4a61-d537-0be1ed7680cb"
      },
      "execution_count": null,
      "outputs": [
        {
          "output_type": "stream",
          "name": "stdout",
          "text": [
            " The First Element: Biryani\n",
            " Last Elements: Panta Bhat\n"
          ]
        }
      ]
    },
    {
      "cell_type": "code",
      "source": [
        "#2.5 Try it yourself: Create a list of 5 numbers, add a new number, remove one, and then sort the list\n",
        "\n",
        "numbers =[1,2,3,4,5]\n",
        "\n",
        "numbers.append(6)\n",
        "print(numbers)\n",
        "\n",
        "numbers.remove(3)\n",
        "print(numbers)\n",
        "\n",
        "numbers_sort =[5,4,3,2,1]\n",
        "numbers_sort.sort()\n",
        "print(numbers_sort)"
      ],
      "metadata": {
        "colab": {
          "base_uri": "https://localhost:8080/"
        },
        "id": "uwSAPzPDXzBS",
        "outputId": "47f5f0ce-9a7b-466a-8d2b-be246a6d9fa2"
      },
      "execution_count": null,
      "outputs": [
        {
          "output_type": "stream",
          "name": "stdout",
          "text": [
            "[1, 2, 3, 4, 5, 6]\n",
            "[1, 2, 4, 5, 6]\n",
            "[1, 2, 3, 4, 5]\n"
          ]
        }
      ]
    },
    {
      "cell_type": "code",
      "source": [
        "# 2.6 Try it yourself: Create a dictionary about yourself with at least 4 key-value pairs.\n",
        "\n",
        "university = {\n",
        "    \"Teacher\" : \"Saimul Sir, Alomgir Sir\",\n",
        "    \"department\" : \"CSE\",\n",
        "    \"Student\" : \"Md Shahin Bhuyan\",\n",
        "    \"Batch\" : \"SM-DS-2025-B1-076\"\n",
        "}\n",
        "print(university)"
      ],
      "metadata": {
        "id": "cfKvFJx7Zich",
        "colab": {
          "base_uri": "https://localhost:8080/"
        },
        "outputId": "734325cc-22b5-42e0-a84e-72ac8fcfcc4d"
      },
      "execution_count": 8,
      "outputs": [
        {
          "output_type": "stream",
          "name": "stdout",
          "text": [
            "{'Teacher': 'Saimul Sir, Alomgir Sir', 'department': 'CSE', 'Student': 'Md Shahin Bhuyan', 'Batch': 'SM-DS-2025-B1-076'}\n"
          ]
        }
      ]
    },
    {
      "cell_type": "code",
      "source": [
        "# 2.7 Try it yourself: Create a tuple with the latitude and longitude of a famous place in Bangladesh\n",
        "\n",
        "my_famous_place = \"Padma river, Rajabri\"\n",
        "latitude = 23.7572\n",
        "longitude = 89.6440\n",
        "\n",
        "print(f'My Famous Place a {my_famous_place}, Latitude:{latitude} & Longitude: {longitude}')"
      ],
      "metadata": {
        "colab": {
          "base_uri": "https://localhost:8080/"
        },
        "id": "Y0bP4YEnvZMs",
        "outputId": "d6a30dda-fe6c-4b4a-d413-dc688030a109"
      },
      "execution_count": 10,
      "outputs": [
        {
          "output_type": "stream",
          "name": "stdout",
          "text": [
            "My Famous Place a Padma river, Rajabri, Latitude:23.7572 & Longitude: 89.644\n"
          ]
        }
      ]
    },
    {
      "cell_type": "code",
      "source": [
        "#2.8 Try it yourself: Create two sets of colors and find their union and intersection\n",
        "\n",
        "color1 = {'white', 'black', 'blue','gray'}\n",
        "color2 = {'green', 'yellow','gray','white'}\n",
        "\n",
        "union = color1 | color2\n",
        "print(f'Union: {union}')\n",
        "\n",
        "intersection = color1 & color2\n",
        "print(f'Intersection: {intersection}')"
      ],
      "metadata": {
        "colab": {
          "base_uri": "https://localhost:8080/"
        },
        "id": "4gV6oDX8wu4q",
        "outputId": "44432d2f-d75d-4661-bcfd-51207e5a8795"
      },
      "execution_count": 13,
      "outputs": [
        {
          "output_type": "stream",
          "name": "stdout",
          "text": [
            "Union: {'green', 'gray', 'white', 'black', 'yellow', 'blue'}\n",
            "Intersection: {'white', 'gray'}\n"
          ]
        }
      ]
    },
    {
      "cell_type": "code",
      "source": [],
      "metadata": {
        "id": "JkoBZlp1yG0C"
      },
      "execution_count": null,
      "outputs": []
    },
    {
      "cell_type": "markdown",
      "source": [
        "## **Control Structures: If-Else Statements**"
      ],
      "metadata": {
        "id": "Y6euZxoZy2B5"
      }
    },
    {
      "cell_type": "code",
      "source": [
        "#2.9 Try it yourself: Write a program that checks if a number is positive, negative, or zero.\n",
        "\n",
        "number = -3\n",
        "\n",
        "if number > 0:\n",
        "  print('Positive Number')\n",
        "elif number < 0:\n",
        "  print(\"Negative Number\")\n",
        "else:\n",
        "  print('Zero')\n"
      ],
      "metadata": {
        "colab": {
          "base_uri": "https://localhost:8080/"
        },
        "id": "nlSZJ7jmy6qj",
        "outputId": "50aabbe3-6e4c-4f37-8308-8979c2979506"
      },
      "execution_count": 28,
      "outputs": [
        {
          "output_type": "stream",
          "name": "stdout",
          "text": [
            "Negative Number\n"
          ]
        }
      ]
    }
  ]
}